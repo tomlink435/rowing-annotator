{
 "cells": [
  {
   "cell_type": "code",
   "execution_count": 1,
   "id": "05edea8d-b0ba-48fa-a481-7b1c02abaecc",
   "metadata": {},
   "outputs": [],
   "source": [
    "# Copyright (c) OpenMMLab. All rights reserved.\n",
    "import logging\n",
    "from argparse import ArgumentParser\n",
    "\n",
    "from mmcv.image import imread\n",
    "from mmengine.logging import print_log\n",
    "\n",
    "from mmpose.apis import inference_topdown, init_model\n",
    "from mmpose.registry import VISUALIZERS\n",
    "from mmpose.structures import merge_data_samples\n",
    "\n",
    "import numpy as np"
   ]
  },
  {
   "cell_type": "code",
   "execution_count": 5,
   "id": "3825ec62-2604-4ed3-a3ad-96f25e1dd3f3",
   "metadata": {},
   "outputs": [
    {
     "name": "stdout",
     "output_type": "stream",
     "text": [
      "Loads checkpoint by local backend from path: C:\\Users\\18242\\.cache\\mim\\rtmpose-l_simcc-aic-coco_pt-aic-coco_420e-256x192-f016ffe0_20230126.pth\n"
     ]
    }
   ],
   "source": [
    "model = init_model(\n",
    "    r\"C:\\Users\\18242\\.cache\\mim\\rtmpose-l_8xb256-420e_aic-coco-256x192.py\",\n",
    "    r\"C:\\Users\\18242\\.cache\\mim\\rtmpose-l_simcc-aic-coco_pt-aic-coco_420e-256x192-f016ffe0_20230126.pth\",\n",
    "    device='cuda:0',\n",
    "    cfg_options=None)"
   ]
  },
  {
   "cell_type": "code",
   "execution_count": 17,
   "id": "e0eb36b1-62df-47ae-bc0d-be57d0db54e6",
   "metadata": {},
   "outputs": [
    {
     "name": "stdout",
     "output_type": "stream",
     "text": [
      "[<PoseDataSample(\n",
      "\n",
      "    META INFORMATION\n",
      "    img_shape: (306, 474)\n",
      "    input_scale: array([592.5, 790. ], dtype=float32)\n",
      "    batch_input_shape: (256, 192)\n",
      "    pad_shape: (256, 192)\n",
      "    ori_shape: (306, 474)\n",
      "    input_size: (192, 256)\n",
      "    input_center: array([237., 153.], dtype=float32)\n",
      "    dataset_name: 'coco'\n",
      "    img_path: 'E:\\\\zlab-Annotator\\\\annotator\\\\src\\\\annotator-front\\\\public\\\\train\\\\train_2023_1022\\\\ssm03.png'\n",
      "    flip_indices: [0, 2, 1, 4, 3, 6, 5, 8, 7, 10, 9, 12, 11, 14, 13, 16, 15]\n",
      "\n",
      "    DATA FIELDS\n",
      "    gt_instances: <InstanceData(\n",
      "        \n",
      "            META INFORMATION\n",
      "        \n",
      "            DATA FIELDS\n",
      "            bbox_scores: array([1.], dtype=float32)\n",
      "            bbox_scales: array([[592.5, 790. ]], dtype=float32)\n",
      "            bboxes: array([[  0.,   0., 474., 306.]], dtype=float32)\n",
      "        ) at 0x1f5ad3c9a60>\n",
      "    pred_instances: <InstanceData(\n",
      "        \n",
      "            META INFORMATION\n",
      "        \n",
      "            DATA FIELDS\n",
      "            keypoints_visible: array([[0.90666604, 0.9280361 , 0.94254124, 0.96846837, 0.9737768 ,\n",
      "                        0.9147557 , 0.94258034, 0.89950556, 0.8459616 , 0.66656494,\n",
      "                        0.71211815, 0.72412694, 0.7210492 , 0.7471825 , 0.39225358,\n",
      "                        0.58035755, 0.30004224]], dtype=float32)\n",
      "            bbox_scores: array([1.], dtype=float32)\n",
      "            keypoint_scores: array([[0.90666604, 0.9280361 , 0.94254124, 0.96846837, 0.9737768 ,\n",
      "                        0.9147557 , 0.94258034, 0.89950556, 0.8459616 , 0.66656494,\n",
      "                        0.71211815, 0.72412694, 0.7210492 , 0.7471825 , 0.39225358,\n",
      "                        0.58035755, 0.30004224]], dtype=float32)\n",
      "            keypoints: array([[[277.1172  ,  68.13672 ],\n",
      "                        [283.28906 ,  60.421875],\n",
      "                        [270.9453  ,  60.421875],\n",
      "                        [297.17578 ,  60.421875],\n",
      "                        [263.23047 ,  60.421875],\n",
      "                        [324.94922 ,  98.99609 ],\n",
      "                        [243.17188 ,  94.36719 ],\n",
      "                        [355.8086  , 149.91406 ],\n",
      "                        [215.39844 , 145.28516 ],\n",
      "                        [366.60938 , 166.88672 ],\n",
      "                        [230.82812 , 159.17188 ],\n",
      "                        [294.08984 , 185.40234 ],\n",
      "                        [246.25781 , 180.77344 ],\n",
      "                        [263.23047 , 173.0586  ],\n",
      "                        [226.19922 , 185.40234 ],\n",
      "                        [213.85547 , 220.89062 ],\n",
      "                        [ 93.50391 , 202.375   ]]], dtype=float32)\n",
      "            bboxes: array([[  0.,   0., 474., 306.]], dtype=float32)\n",
      "        ) at 0x1f5ac8417f0>\n",
      "    gt_instance_labels: <InstanceData(\n",
      "        \n",
      "            META INFORMATION\n",
      "        \n",
      "            DATA FIELDS\n",
      "        ) at 0x1f5ad3c9af0>\n",
      ") at 0x1f5ad3c9a00>]\n"
     ]
    }
   ],
   "source": [
    "# bboxes = np.array([[163,76,346,345]])\n",
    "\n",
    "batch_results = inference_topdown(model, r\"E:\\zlab-Annotator\\annotator\\src\\annotator-front\\public\\train\\train_2023_1022\\ssm03.png\")\n",
    "\n",
    "\n",
    "print(batch_results)"
   ]
  },
  {
   "cell_type": "code",
   "execution_count": 18,
   "id": "2ad1e983-ec2f-4d28-8bc9-8432a9fe700c",
   "metadata": {},
   "outputs": [
    {
     "name": "stdout",
     "output_type": "stream",
     "text": [
      "<PoseDataSample(\n",
      "\n",
      "    META INFORMATION\n",
      "    img_shape: (306, 474)\n",
      "    batch_input_shape: (256, 192)\n",
      "    input_scale: array([592.5, 790. ], dtype=float32)\n",
      "    pad_shape: (256, 192)\n",
      "    ori_shape: (306, 474)\n",
      "    input_size: (192, 256)\n",
      "    input_center: array([237., 153.], dtype=float32)\n",
      "    dataset_name: 'coco'\n",
      "    img_path: 'E:\\\\zlab-Annotator\\\\annotator\\\\src\\\\annotator-front\\\\public\\\\train\\\\train_2023_1022\\\\ssm03.png'\n",
      "    flip_indices: [0, 2, 1, 4, 3, 6, 5, 8, 7, 10, 9, 12, 11, 14, 13, 16, 15]\n",
      "\n",
      "    DATA FIELDS\n",
      "    gt_instances: <InstanceData(\n",
      "        \n",
      "            META INFORMATION\n",
      "        \n",
      "            DATA FIELDS\n",
      "            bbox_scores: array([1.], dtype=float32)\n",
      "            bbox_scales: array([[592.5, 790. ]], dtype=float32)\n",
      "            bboxes: array([[  0.,   0., 474., 306.]], dtype=float32)\n",
      "        ) at 0x1f5ad3c9a60>\n",
      "    pred_instances: <InstanceData(\n",
      "        \n",
      "            META INFORMATION\n",
      "        \n",
      "            DATA FIELDS\n",
      "            keypoints_visible: array([[0.90666604, 0.9280361 , 0.94254124, 0.96846837, 0.9737768 ,\n",
      "                        0.9147557 , 0.94258034, 0.89950556, 0.8459616 , 0.66656494,\n",
      "                        0.71211815, 0.72412694, 0.7210492 , 0.7471825 , 0.39225358,\n",
      "                        0.58035755, 0.30004224]], dtype=float32)\n",
      "            bbox_scores: array([1.], dtype=float32)\n",
      "            keypoint_scores: array([[0.90666604, 0.9280361 , 0.94254124, 0.96846837, 0.9737768 ,\n",
      "                        0.9147557 , 0.94258034, 0.89950556, 0.8459616 , 0.66656494,\n",
      "                        0.71211815, 0.72412694, 0.7210492 , 0.7471825 , 0.39225358,\n",
      "                        0.58035755, 0.30004224]], dtype=float32)\n",
      "            keypoints: array([[[277.1172  ,  68.13672 ],\n",
      "                        [283.28906 ,  60.421875],\n",
      "                        [270.9453  ,  60.421875],\n",
      "                        [297.17578 ,  60.421875],\n",
      "                        [263.23047 ,  60.421875],\n",
      "                        [324.94922 ,  98.99609 ],\n",
      "                        [243.17188 ,  94.36719 ],\n",
      "                        [355.8086  , 149.91406 ],\n",
      "                        [215.39844 , 145.28516 ],\n",
      "                        [366.60938 , 166.88672 ],\n",
      "                        [230.82812 , 159.17188 ],\n",
      "                        [294.08984 , 185.40234 ],\n",
      "                        [246.25781 , 180.77344 ],\n",
      "                        [263.23047 , 173.0586  ],\n",
      "                        [226.19922 , 185.40234 ],\n",
      "                        [213.85547 , 220.89062 ],\n",
      "                        [ 93.50391 , 202.375   ]]], dtype=float32)\n",
      "            bboxes: array([[  0.,   0., 474., 306.]], dtype=float32)\n",
      "        ) at 0x1f5ac8417f0>\n",
      ") at 0x1f5ad3c98e0>\n"
     ]
    }
   ],
   "source": [
    "results = merge_data_samples(batch_results)\n",
    "\n",
    "print(results)"
   ]
  },
  {
   "cell_type": "code",
   "execution_count": 19,
   "id": "2f138921-db1d-4893-8baf-fbd9e1d623f7",
   "metadata": {},
   "outputs": [
    {
     "data": {
      "text/plain": [
       "<InstanceData(\n",
       "\n",
       "    META INFORMATION\n",
       "\n",
       "    DATA FIELDS\n",
       "    keypoints_visible: array([[0.90666604, 0.9280361 , 0.94254124, 0.96846837, 0.9737768 ,\n",
       "                0.9147557 , 0.94258034, 0.89950556, 0.8459616 , 0.66656494,\n",
       "                0.71211815, 0.72412694, 0.7210492 , 0.7471825 , 0.39225358,\n",
       "                0.58035755, 0.30004224]], dtype=float32)\n",
       "    bbox_scores: array([1.], dtype=float32)\n",
       "    keypoint_scores: array([[0.90666604, 0.9280361 , 0.94254124, 0.96846837, 0.9737768 ,\n",
       "                0.9147557 , 0.94258034, 0.89950556, 0.8459616 , 0.66656494,\n",
       "                0.71211815, 0.72412694, 0.7210492 , 0.7471825 , 0.39225358,\n",
       "                0.58035755, 0.30004224]], dtype=float32)\n",
       "    keypoints: array([[[277.1172  ,  68.13672 ],\n",
       "                [283.28906 ,  60.421875],\n",
       "                [270.9453  ,  60.421875],\n",
       "                [297.17578 ,  60.421875],\n",
       "                [263.23047 ,  60.421875],\n",
       "                [324.94922 ,  98.99609 ],\n",
       "                [243.17188 ,  94.36719 ],\n",
       "                [355.8086  , 149.91406 ],\n",
       "                [215.39844 , 145.28516 ],\n",
       "                [366.60938 , 166.88672 ],\n",
       "                [230.82812 , 159.17188 ],\n",
       "                [294.08984 , 185.40234 ],\n",
       "                [246.25781 , 180.77344 ],\n",
       "                [263.23047 , 173.0586  ],\n",
       "                [226.19922 , 185.40234 ],\n",
       "                [213.85547 , 220.89062 ],\n",
       "                [ 93.50391 , 202.375   ]]], dtype=float32)\n",
       "    bboxes: array([[  0.,   0., 474., 306.]], dtype=float32)\n",
       ") at 0x1f5ac8417f0>"
      ]
     },
     "execution_count": 19,
     "metadata": {},
     "output_type": "execute_result"
    }
   ],
   "source": [
    "results.pred_instances"
   ]
  },
  {
   "cell_type": "code",
   "execution_count": 20,
   "id": "1221754d-04d4-4cdb-b69a-6daed0c41765",
   "metadata": {},
   "outputs": [
    {
     "data": {
      "text/plain": [
       "array([[[277.1172  ,  68.13672 ],\n",
       "        [283.28906 ,  60.421875],\n",
       "        [270.9453  ,  60.421875],\n",
       "        [297.17578 ,  60.421875],\n",
       "        [263.23047 ,  60.421875],\n",
       "        [324.94922 ,  98.99609 ],\n",
       "        [243.17188 ,  94.36719 ],\n",
       "        [355.8086  , 149.91406 ],\n",
       "        [215.39844 , 145.28516 ],\n",
       "        [366.60938 , 166.88672 ],\n",
       "        [230.82812 , 159.17188 ],\n",
       "        [294.08984 , 185.40234 ],\n",
       "        [246.25781 , 180.77344 ],\n",
       "        [263.23047 , 173.0586  ],\n",
       "        [226.19922 , 185.40234 ],\n",
       "        [213.85547 , 220.89062 ],\n",
       "        [ 93.50391 , 202.375   ]]], dtype=float32)"
      ]
     },
     "execution_count": 20,
     "metadata": {},
     "output_type": "execute_result"
    }
   ],
   "source": [
    "results.pred_instances.keypoints"
   ]
  },
  {
   "cell_type": "code",
   "execution_count": 21,
   "id": "2ade22b6-7652-4f47-8efa-4fd80bce71f4",
   "metadata": {},
   "outputs": [
    {
     "data": {
      "text/plain": [
       "(1, 17, 2)"
      ]
     },
     "execution_count": 21,
     "metadata": {},
     "output_type": "execute_result"
    }
   ],
   "source": [
    "results.pred_instances.keypoints.shape"
   ]
  },
  {
   "cell_type": "code",
   "execution_count": null,
   "id": "879307a2-cfe7-4c25-a604-2a6eec9c4057",
   "metadata": {},
   "outputs": [],
   "source": [
    "img = imread(args.img, channel_order='rgb')\n",
    "visualizer.add_datasample(\n",
    "    'result',\n",
    "    img,\n",
    "    data_sample=results,\n",
    "    draw_gt=False,\n",
    "    draw_bbox=True,\n",
    "    kpt_thr=args.kpt_thr,\n",
    "    draw_heatmap=args.draw_heatmap,\n",
    "    show_kpt_idx=args.show_kpt_idx,\n",
    "    skeleton_style=args.skeleton_style,\n",
    "    show=args.show,\n",
    "    out_file=args.out_file)"
   ]
  },
  {
   "cell_type": "code",
   "execution_count": null,
   "id": "52b3f295-c640-40ec-923c-a2177df189ae",
   "metadata": {},
   "outputs": [],
   "source": []
  }
 ],
 "metadata": {
  "kernelspec": {
   "display_name": "Python 3 (ipykernel)",
   "language": "python",
   "name": "python3"
  },
  "language_info": {
   "codemirror_mode": {
    "name": "ipython",
    "version": 3
   },
   "file_extension": ".py",
   "mimetype": "text/x-python",
   "name": "python",
   "nbconvert_exporter": "python",
   "pygments_lexer": "ipython3",
   "version": "3.8.18"
  }
 },
 "nbformat": 4,
 "nbformat_minor": 5
}
